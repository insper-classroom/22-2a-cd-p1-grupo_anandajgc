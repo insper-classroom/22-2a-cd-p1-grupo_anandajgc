{
 "cells": [
  {
   "cell_type": "markdown",
   "metadata": {},
   "source": [
    "# Projeto 1 - Ciência dos Dados"
   ]
  },
  {
   "cell_type": "markdown",
   "metadata": {},
   "source": [
    "Nome: Ananda Júlia Galvão Campelo\n",
    "\n",
    "Nome: Carol Magario de Mattos Barretto"
   ]
  },
  {
   "cell_type": "markdown",
   "metadata": {},
   "source": [
    "Atenção: Serão permitidos grupos de três pessoas, mas com uma rubrica mais exigente. Grupos deste tamanho precisarão fazer um questionário de avaliação de trabalho em equipe"
   ]
  },
  {
   "cell_type": "markdown",
   "metadata": {},
   "source": [
    "___\n",
    "Carregando algumas bibliotecas:"
   ]
  },
  {
   "cell_type": "code",
   "execution_count": 1,
   "metadata": {},
   "outputs": [],
   "source": [
    "%matplotlib inline\n",
    "import pandas as pd\n",
    "import matplotlib.pyplot as plt\n",
    "import numpy as np\n",
    "import os"
   ]
  },
  {
   "cell_type": "code",
   "execution_count": 2,
   "metadata": {
    "scrolled": false
   },
   "outputs": [
    {
     "name": "stdout",
     "output_type": "stream",
     "text": [
      "Esperamos trabalhar no diretório\n",
      "C:\\Users\\carol\\Downloads\\2022.2\\Ciência dos Dados\\22-2a-cd-p1-grupo_anandajgc\n"
     ]
    }
   ],
   "source": [
    "print('Esperamos trabalhar no diretório')\n",
    "print(os.getcwd())"
   ]
  },
  {
   "cell_type": "markdown",
   "metadata": {},
   "source": [
    "Carregando a base de dados com as notícias classificadas manualmente:"
   ]
  },
  {
   "cell_type": "code",
   "execution_count": 3,
   "metadata": {},
   "outputs": [],
   "source": [
    "filename = 'dados.xlsx'"
   ]
  },
  {
   "cell_type": "code",
   "execution_count": 4,
   "metadata": {},
   "outputs": [
    {
     "data": {
      "text/html": [
       "<div>\n",
       "<style scoped>\n",
       "    .dataframe tbody tr th:only-of-type {\n",
       "        vertical-align: middle;\n",
       "    }\n",
       "\n",
       "    .dataframe tbody tr th {\n",
       "        vertical-align: top;\n",
       "    }\n",
       "\n",
       "    .dataframe thead th {\n",
       "        text-align: right;\n",
       "    }\n",
       "</style>\n",
       "<table border=\"1\" class=\"dataframe\">\n",
       "  <thead>\n",
       "    <tr style=\"text-align: right;\">\n",
       "      <th></th>\n",
       "      <th>Categoria</th>\n",
       "      <th>Titulo</th>\n",
       "      <th>PrimeiroParag</th>\n",
       "      <th>Data</th>\n",
       "      <th>Pagina</th>\n",
       "      <th>Target</th>\n",
       "    </tr>\n",
       "  </thead>\n",
       "  <tbody>\n",
       "    <tr>\n",
       "      <th>0</th>\n",
       "      <td>Mercados</td>\n",
       "      <td>Ibovespa: ALPA4 fecha mais um pregão em alta e...</td>\n",
       "      <td>O Ibovespa (IBOV) fechou em queda de 1,09% nes...</td>\n",
       "      <td>26/08/2022 - 17:37</td>\n",
       "      <td>43</td>\n",
       "      <td>3</td>\n",
       "    </tr>\n",
       "    <tr>\n",
       "      <th>1</th>\n",
       "      <td>Empresas</td>\n",
       "      <td>IRB (IRBR3) é, de longe, a ação mais ‘shortead...</td>\n",
       "      <td>O IRB (IRBR3) é a ação com mais investidores s...</td>\n",
       "      <td>31/08/2022 - 17:00</td>\n",
       "      <td>28</td>\n",
       "      <td>2</td>\n",
       "    </tr>\n",
       "    <tr>\n",
       "      <th>2</th>\n",
       "      <td>Carteira Recomendada</td>\n",
       "      <td>5 ações que pagam bons dividendos para investi...</td>\n",
       "      <td>Para setembro, a Órama Investimentos optou por...</td>\n",
       "      <td>05/09/2022 - 10:27</td>\n",
       "      <td>14</td>\n",
       "      <td>1</td>\n",
       "    </tr>\n",
       "    <tr>\n",
       "      <th>3</th>\n",
       "      <td>Carteira Recomendada</td>\n",
       "      <td>Empiricus Investimentos escala 6 ações com div...</td>\n",
       "      <td>A Empiricus Investimentos, ex-Vitreo, incluiu ...</td>\n",
       "      <td>05/09/2022 - 13:21</td>\n",
       "      <td>12</td>\n",
       "      <td>1</td>\n",
       "    </tr>\n",
       "    <tr>\n",
       "      <th>4</th>\n",
       "      <td>Mercados</td>\n",
       "      <td>Ibovespa futuro opera em queda com aversão ao ...</td>\n",
       "      <td>O dólar abria o pregão desta segunda-feira (29...</td>\n",
       "      <td>29/08/2022 - 9:08</td>\n",
       "      <td>40</td>\n",
       "      <td>0</td>\n",
       "    </tr>\n",
       "  </tbody>\n",
       "</table>\n",
       "</div>"
      ],
      "text/plain": [
       "               Categoria                                             Titulo  \\\n",
       "0              Mercados   Ibovespa: ALPA4 fecha mais um pregão em alta e...   \n",
       "1              Empresas   IRB (IRBR3) é, de longe, a ação mais ‘shortead...   \n",
       "2  Carteira Recomendada   5 ações que pagam bons dividendos para investi...   \n",
       "3  Carteira Recomendada   Empiricus Investimentos escala 6 ações com div...   \n",
       "4              Mercados   Ibovespa futuro opera em queda com aversão ao ...   \n",
       "\n",
       "                                       PrimeiroParag                Data  \\\n",
       "0  O Ibovespa (IBOV) fechou em queda de 1,09% nes...  26/08/2022 - 17:37   \n",
       "1  O IRB (IRBR3) é a ação com mais investidores s...  31/08/2022 - 17:00   \n",
       "2  Para setembro, a Órama Investimentos optou por...  05/09/2022 - 10:27   \n",
       "3  A Empiricus Investimentos, ex-Vitreo, incluiu ...  05/09/2022 - 13:21   \n",
       "4  O dólar abria o pregão desta segunda-feira (29...   29/08/2022 - 9:08   \n",
       "\n",
       "   Pagina  Target  \n",
       "0      43       3  \n",
       "1      28       2  \n",
       "2      14       1  \n",
       "3      12       1  \n",
       "4      40       0  "
      ]
     },
     "execution_count": 4,
     "metadata": {},
     "output_type": "execute_result"
    }
   ],
   "source": [
    "train = pd.read_excel(filename, sheet_name = 'Treinamento')\n",
    "train.head(5)"
   ]
  },
  {
   "cell_type": "code",
   "execution_count": 5,
   "metadata": {},
   "outputs": [
    {
     "data": {
      "text/html": [
       "<div>\n",
       "<style scoped>\n",
       "    .dataframe tbody tr th:only-of-type {\n",
       "        vertical-align: middle;\n",
       "    }\n",
       "\n",
       "    .dataframe tbody tr th {\n",
       "        vertical-align: top;\n",
       "    }\n",
       "\n",
       "    .dataframe thead th {\n",
       "        text-align: right;\n",
       "    }\n",
       "</style>\n",
       "<table border=\"1\" class=\"dataframe\">\n",
       "  <thead>\n",
       "    <tr style=\"text-align: right;\">\n",
       "      <th></th>\n",
       "      <th>Categoria</th>\n",
       "      <th>Titulo</th>\n",
       "      <th>PrimeiroParag</th>\n",
       "      <th>Data</th>\n",
       "      <th>Pagina</th>\n",
       "      <th>Target</th>\n",
       "    </tr>\n",
       "  </thead>\n",
       "  <tbody>\n",
       "    <tr>\n",
       "      <th>0</th>\n",
       "      <td>Mercados</td>\n",
       "      <td>Ibovespa (IBOV) vira para queda, com VALE3 ent...</td>\n",
       "      <td>O Ibovespa (IBOV) operava sem forças nesta qua...</td>\n",
       "      <td>24/08/2022 - 13:58</td>\n",
       "      <td>53.0</td>\n",
       "      <td>3</td>\n",
       "    </tr>\n",
       "    <tr>\n",
       "      <th>1</th>\n",
       "      <td>Empresas</td>\n",
       "      <td>Ação da Braskem (BRKM3) avança com notícia sob...</td>\n",
       "      <td>As ações da Braskem (BRKM3) avançavam ao redor...</td>\n",
       "      <td>02/09/2022 - 11:30</td>\n",
       "      <td>20.0</td>\n",
       "      <td>3</td>\n",
       "    </tr>\n",
       "    <tr>\n",
       "      <th>2</th>\n",
       "      <td>Mercados</td>\n",
       "      <td>Compre commodities, se preocupe com recessão d...</td>\n",
       "      <td>O Goldman Sachs recomenda que os investidores ...</td>\n",
       "      <td>29/08/2022 - 9:49</td>\n",
       "      <td>40.0</td>\n",
       "      <td>2</td>\n",
       "    </tr>\n",
       "    <tr>\n",
       "      <th>3</th>\n",
       "      <td>Carteira Recomendada</td>\n",
       "      <td>Veja as 5 novas ações escaladas pela XP para e...</td>\n",
       "      <td>A XP Investimentos repaginou sua carteira reco...</td>\n",
       "      <td>20/08/2022 - 9:31</td>\n",
       "      <td>66.0</td>\n",
       "      <td>2</td>\n",
       "    </tr>\n",
       "    <tr>\n",
       "      <th>4</th>\n",
       "      <td>Mais Lidas</td>\n",
       "      <td>Respostas sobre Magazine Luiza (MGLU3) e mais ...</td>\n",
       "      <td>Investidores não tiraram Magazine Luiza (MGLU3...</td>\n",
       "      <td>28/08/2022 - 10:30</td>\n",
       "      <td>42.0</td>\n",
       "      <td>3</td>\n",
       "    </tr>\n",
       "  </tbody>\n",
       "</table>\n",
       "</div>"
      ],
      "text/plain": [
       "               Categoria                                             Titulo  \\\n",
       "0              Mercados   Ibovespa (IBOV) vira para queda, com VALE3 ent...   \n",
       "1              Empresas   Ação da Braskem (BRKM3) avança com notícia sob...   \n",
       "2              Mercados   Compre commodities, se preocupe com recessão d...   \n",
       "3  Carteira Recomendada   Veja as 5 novas ações escaladas pela XP para e...   \n",
       "4            Mais Lidas   Respostas sobre Magazine Luiza (MGLU3) e mais ...   \n",
       "\n",
       "                                       PrimeiroParag                Data  \\\n",
       "0  O Ibovespa (IBOV) operava sem forças nesta qua...  24/08/2022 - 13:58   \n",
       "1  As ações da Braskem (BRKM3) avançavam ao redor...  02/09/2022 - 11:30   \n",
       "2  O Goldman Sachs recomenda que os investidores ...   29/08/2022 - 9:49   \n",
       "3  A XP Investimentos repaginou sua carteira reco...   20/08/2022 - 9:31   \n",
       "4  Investidores não tiraram Magazine Luiza (MGLU3...  28/08/2022 - 10:30   \n",
       "\n",
       "   Pagina  Target  \n",
       "0    53.0       3  \n",
       "1    20.0       3  \n",
       "2    40.0       2  \n",
       "3    66.0       2  \n",
       "4    42.0       3  "
      ]
     },
     "execution_count": 5,
     "metadata": {},
     "output_type": "execute_result"
    }
   ],
   "source": [
    "test = pd.read_excel(filename, sheet_name = 'Teste')\n",
    "test.head(5)"
   ]
  },
  {
   "cell_type": "markdown",
   "metadata": {},
   "source": [
    "___\n",
    "## Classificador automático\n"
   ]
  },
  {
   "cell_type": "markdown",
   "metadata": {},
   "source": [
    "Faça aqui uma descrição do seu assunto e o que considerou como relevante ou não relevante na classificação das notícias (Target).\n",
    "\n",
    "ESCREVA AQUI..."
   ]
  },
  {
   "cell_type": "markdown",
   "metadata": {},
   "source": [
    "___\n",
    "### Montando um Classificador Naive-Bayes\n",
    "\n",
    "Considerando apenas as mensagens da planilha Treinamento, ensine  seu classificador."
   ]
  },
  {
   "cell_type": "code",
   "execution_count": null,
   "metadata": {},
   "outputs": [],
   "source": []
  },
  {
   "cell_type": "code",
   "execution_count": null,
   "metadata": {},
   "outputs": [],
   "source": []
  },
  {
   "cell_type": "code",
   "execution_count": null,
   "metadata": {},
   "outputs": [],
   "source": []
  },
  {
   "cell_type": "markdown",
   "metadata": {},
   "source": [
    "___\n",
    "### Verificando a performance do Classificador\n",
    "\n",
    "Agora você deve testar o seu classificador com a base de Testes."
   ]
  },
  {
   "cell_type": "code",
   "execution_count": null,
   "metadata": {},
   "outputs": [],
   "source": []
  },
  {
   "cell_type": "code",
   "execution_count": null,
   "metadata": {},
   "outputs": [],
   "source": []
  },
  {
   "cell_type": "code",
   "execution_count": null,
   "metadata": {},
   "outputs": [],
   "source": []
  },
  {
   "cell_type": "markdown",
   "metadata": {},
   "source": [
    "___\n",
    "### Concluindo"
   ]
  },
  {
   "cell_type": "code",
   "execution_count": null,
   "metadata": {},
   "outputs": [],
   "source": []
  },
  {
   "cell_type": "code",
   "execution_count": null,
   "metadata": {},
   "outputs": [],
   "source": []
  },
  {
   "cell_type": "code",
   "execution_count": null,
   "metadata": {},
   "outputs": [],
   "source": []
  },
  {
   "cell_type": "markdown",
   "metadata": {},
   "source": [
    "___\n",
    "### Qualidade do Classificador a partir de novas separações das notícias entre Treinamento e Teste\n",
    "\n",
    "Caso for fazer esse item do Projeto"
   ]
  },
  {
   "cell_type": "code",
   "execution_count": null,
   "metadata": {},
   "outputs": [],
   "source": []
  },
  {
   "cell_type": "code",
   "execution_count": null,
   "metadata": {},
   "outputs": [],
   "source": []
  },
  {
   "cell_type": "code",
   "execution_count": null,
   "metadata": {},
   "outputs": [],
   "source": []
  },
  {
   "cell_type": "markdown",
   "metadata": {},
   "source": [
    "___\n",
    "## Aperfeiçoamento:\n",
    "\n",
    "Trabalhos que conseguirem pelo menos conceito B vão evoluir em conceito dependendo da quantidade de itens avançados:\n",
    "\n",
    "* IMPLEMENTOU outras limpezas e transformações que não afetem a qualidade da informação contida nas notícias. Ex: stemming, lemmatization, stopwords\n",
    "* CONSIDEROU mais de duas caterogias na variável Target e INCREMENTOU a quantidade de notícias, mantendo pelo menos 250 notícias por caterogia (OBRIGATÓRIO PARA TRIOS, sem contar como item avançado)\n",
    "* Para Target com duas categorias: CRIOU pelo menos quatro categorias intermediárias de relevância baseadas na probabilidade: ex.: muito relevante, relevante, neutro, irrelevante, muito irrelevante\n",
    "* EXPLICOU porquê não pode usar o próprio classificador para gerar mais amostras de treinamento\n",
    "* PROPÔS diferentes cenários para Naïve Bayes fora do contexto do projeto (pelo menos dois cenários, exceto aqueles já apresentados em sala pelos professores: por exemplo, filtro de spam)\n",
    "* SUGERIU e EXPLICOU melhorias reais com indicações concretas de como implementar (indicar como fazer e indicar material de pesquisa)\n",
    "* FEZ o item Qualidade do Classificador a partir de novas separações das Notícias entre Treinamento e Teste descrito no enunciado do projeto (OBRIGATÓRIO para conceitos A ou A+)"
   ]
  },
  {
   "cell_type": "markdown",
   "metadata": {},
   "source": [
    "___\n",
    "## Referências"
   ]
  },
  {
   "cell_type": "markdown",
   "metadata": {},
   "source": [
    "[Naive Bayes and Text Classification](https://arxiv.org/pdf/1410.5329.pdf)  **Mais completo**\n",
    "\n",
    "[A practical explanation of a Naive Bayes Classifier](https://monkeylearn.com/blog/practical-explanation-naive-bayes-classifier/) **Mais simples**"
   ]
  },
  {
   "cell_type": "code",
   "execution_count": null,
   "metadata": {},
   "outputs": [],
   "source": []
  }
 ],
 "metadata": {
  "kernelspec": {
   "display_name": "Python 3 (ipykernel)",
   "language": "python",
   "name": "python3"
  },
  "language_info": {
   "codemirror_mode": {
    "name": "ipython",
    "version": 3
   },
   "file_extension": ".py",
   "mimetype": "text/x-python",
   "name": "python",
   "nbconvert_exporter": "python",
   "pygments_lexer": "ipython3",
   "version": "3.9.7"
  }
 },
 "nbformat": 4,
 "nbformat_minor": 4
}
